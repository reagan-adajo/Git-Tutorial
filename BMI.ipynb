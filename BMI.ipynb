{
 "cells": [
  {
   "cell_type": "code",
   "execution_count": 3,
   "id": "ef799fa8-096d-4b0f-ac26-046dbd3368b5",
   "metadata": {},
   "outputs": [
    {
     "name": "stdin",
     "output_type": "stream",
     "text": [
      "what is your name:  Reagan\n"
     ]
    },
    {
     "name": "stdout",
     "output_type": "stream",
     "text": [
      "Hello Reagan, welcome to our BMI calculation system\n"
     ]
    }
   ],
   "source": [
    "#BMI Calculator\n",
    "name = input(\"what is your name: \")\n",
    "print(f\"Hello {name}, welcome to our BMI calculation system\")"
   ]
  },
  {
   "cell_type": "code",
   "execution_count": 6,
   "id": "b6b87ec7-d913-481a-9790-3c651373b36c",
   "metadata": {},
   "outputs": [
    {
     "name": "stdout",
     "output_type": "stream",
     "text": [
      "Provide us with the information below: \n"
     ]
    },
    {
     "name": "stdin",
     "output_type": "stream",
     "text": [
      "Enter your weight: kgs 61\n",
      "Enter your height: metres 1.76\n"
     ]
    },
    {
     "name": "stdout",
     "output_type": "stream",
     "text": [
      "=======BMI======\n",
      "Your BMI is: 19.692665289256198\n",
      "Normal\n"
     ]
    }
   ],
   "source": [
    "print(\"Provide us with the information below: \")\n",
    "weight = float(input(\"Enter your weight: kgs\"))\n",
    "height = float(input(\"Enter your height: metres\"))\n",
    "\n",
    "BMI = weight/(height*height)\n",
    "\n",
    "print(\"=======BMI======\")\n",
    "print(f\"Your BMI is: {BMI}\")\n",
    "\n",
    "if BMI > 25:\n",
    "    print(\"Overweight\")\n",
    "\n",
    "elif BMI < 18:\n",
    "    print(\"Underweight\")\n",
    "\n",
    "else:\n",
    "    print(\"Normal\")\n",
    "    "
   ]
  },
  {
   "cell_type": "code",
   "execution_count": null,
   "id": "8926bc58-f3f3-4b71-b50f-a67ae854ab5d",
   "metadata": {},
   "outputs": [],
   "source": []
  }
 ],
 "metadata": {
  "kernelspec": {
   "display_name": "Python 3 (ipykernel)",
   "language": "python",
   "name": "python3"
  },
  "language_info": {
   "codemirror_mode": {
    "name": "ipython",
    "version": 3
   },
   "file_extension": ".py",
   "mimetype": "text/x-python",
   "name": "python",
   "nbconvert_exporter": "python",
   "pygments_lexer": "ipython3",
   "version": "3.12.4"
  }
 },
 "nbformat": 4,
 "nbformat_minor": 5
}
